{
  "nbformat": 4,
  "nbformat_minor": 0,
  "metadata": {
    "colab": {
      "provenance": [],
      "collapsed_sections": [
        "CT9I4Fug_YP1"
      ],
      "authorship_tag": "ABX9TyNUGN/xBWTf0yQFeYrQY0jM",
      "include_colab_link": true
    },
    "kernelspec": {
      "name": "python3",
      "display_name": "Python 3"
    },
    "language_info": {
      "name": "python"
    }
  },
  "cells": [
    {
      "cell_type": "markdown",
      "metadata": {
        "id": "view-in-github",
        "colab_type": "text"
      },
      "source": [
        "<a href=\"https://colab.research.google.com/github/esheshka/calculator-of-words/blob/main/calculator_1_5.ipynb\" target=\"_parent\"><img src=\"https://colab.research.google.com/assets/colab-badge.svg\" alt=\"Open In Colab\"/></a>"
      ]
    },
    {
      "cell_type": "markdown",
      "source": [
        "# Imports"
      ],
      "metadata": {
        "id": "CT9I4Fug_YP1"
      }
    },
    {
      "cell_type": "code",
      "execution_count": 13,
      "metadata": {
        "id": "At-KULGX_Sw5"
      },
      "outputs": [],
      "source": [
        "import re\n",
        "import math\n",
        "from fractions import Fraction"
      ]
    },
    {
      "cell_type": "markdown",
      "source": [
        "# Constants"
      ],
      "metadata": {
        "id": "n9jCWEaI_cHQ"
      }
    },
    {
      "cell_type": "code",
      "source": [
        "# Словарь для преобразования текстовых чисел в числовые\n",
        "number_words = {\n",
        "    \"ноль\": 0,\n",
        "    \"один\": 1,\n",
        "    \"одна\": 1,\n",
        "    \"два\": 2,\n",
        "    \"две\": 2,\n",
        "    \"три\": 3,\n",
        "    \"четыре\": 4,\n",
        "    \"пять\": 5,\n",
        "    \"шесть\": 6,\n",
        "    \"семь\": 7,\n",
        "    \"восемь\": 8,\n",
        "    \"девять\": 9,\n",
        "    \"десять\": 10,\n",
        "    \"одиннадцать\": 11,\n",
        "    \"двенадцать\": 12,\n",
        "    \"тринадцать\": 13,\n",
        "    \"четырнадцать\": 14,\n",
        "    \"пятнадцать\": 15,\n",
        "    \"шестнадцать\": 16,\n",
        "    \"семнадцать\": 17,\n",
        "    \"восемнадцать\": 18,\n",
        "    \"девятнадцать\": 19,\n",
        "    \"двадцать\": 20,\n",
        "    \"тридцать\": 30,\n",
        "    \"сорок\": 40,\n",
        "    \"пятьдесят\": 50,\n",
        "    \"шестьдесят\": 60,\n",
        "    \"семьдесят\": 70,\n",
        "    \"восемьдесят\": 80,\n",
        "    \"девяносто\": 90,\n",
        "    \"сто\": 100,\n",
        "    \"двести\": 200,\n",
        "    \"триста\": 300,\n",
        "    \"четыреста\": 400,\n",
        "    \"пятьсот\": 500,\n",
        "    \"шестьсот\": 600,\n",
        "    \"семьсот\": 700,\n",
        "    \"восемьсот\": 800,\n",
        "    \"девятьсот\": 900,\n",
        "}\n",
        "\n",
        "units = [\"\", \"один\", \"два\", \"три\", \"четыре\", \"пять\", \"шесть\", \"семь\", \"восемь\", \"девять\"]\n",
        "teens = [\"десять\", \"одиннадцать\", \"двенадцать\", \"тринадцать\", \"четырнадцать\", \"пятнадцать\", \"шестнадцать\", \"семнадцать\", \"восемнадцать\", \"девятнадцать\"]\n",
        "tens = [\"\", \"десять\", \"двадцать\", \"тридцать\", \"сорок\", \"пятьдесят\", \"шестьдесят\", \"семьдесят\", \"восемьдесят\", \"девяносто\"]\n",
        "hundreds = [\"\", \"сто\", \"двести\", \"триста\", \"четыреста\", \"пятьсот\", \"шестьсот\", \"семьсот\", \"восемьсот\", \"девятьсот\"]\n",
        "\n",
        "float_words_1 = {\n",
        "    \"вторая\": 2,\n",
        "    \"третья\": 3,\n",
        "    \"четвертая\": 4,\n",
        "    \"пятая\": 5,\n",
        "    \"шестая\": 6,\n",
        "    \"седьмая\": 7,\n",
        "    \"восьмая\": 8,\n",
        "    \"девятая\": 9,\n",
        "    \"десятая\": 10,\n",
        "    \"одиннадцатая\": 11,\n",
        "    \"двенадцатая\": 12,\n",
        "    \"тринадцатая\": 13,\n",
        "    \"четырнадцатая\": 14,\n",
        "    \"пятнадцатая\": 15,\n",
        "    \"шестнадцатая\": 16,\n",
        "    \"семнадцатая\": 17,\n",
        "    \"восемнадцатая\": 18,\n",
        "    \"девятнадцатая\": 19,\n",
        "    \"двадцатая\": 20,\n",
        "    \"тридцатая\": 30,\n",
        "    \"сороковая\": 40,\n",
        "    \"пятидесятая\": 50,\n",
        "    \"шестидесятая\": 60,\n",
        "    \"семидесятая\": 70,\n",
        "    \"восьмидесятая\": 80,\n",
        "    \"девяностая\": 90,\n",
        "    \"сотая\": 100,\n",
        "    \"тысячная\": 1000\n",
        "}\n",
        "reverse_float_words_1 = {v: k for k, v in float_words_1.items()}\n",
        "float_words_2 = {\n",
        "    \"вторых\": 2,\n",
        "    \"третьих\": 3,\n",
        "    \"четвертых\": 4,\n",
        "    \"пятых\": 5,\n",
        "    \"шестых\": 6,\n",
        "    \"седьмых\": 7,\n",
        "    \"восьмых\": 8,\n",
        "    \"девятых\": 9,\n",
        "    \"десятых\": 10,\n",
        "    \"одиннадцатых\": 11,\n",
        "    \"двенадцатых\": 12,\n",
        "    \"тринадцатых\": 13,\n",
        "    \"четырнадцатых\": 14,\n",
        "    \"пятнадцатых\": 15,\n",
        "    \"шестнадцатых\": 16,\n",
        "    \"семнадцатых\": 17,\n",
        "    \"восемнадцатых\": 18,\n",
        "    \"девятнадцатых\": 19,\n",
        "    \"двадцатых\": 20,\n",
        "    \"тридцатых\": 30,\n",
        "    \"сороковых\": 40,\n",
        "    \"пятидесятых\": 50,\n",
        "    \"шестидесятых\": 60,\n",
        "    \"семидесятых\": 70,\n",
        "    \"восьмидесятых\": 80,\n",
        "    \"девяностых\": 90,\n",
        "    \"сотых\": 100,\n",
        "    \"тысячных\": 1000\n",
        "}\n",
        "reverse_float_words_2 = {v: k for k, v in float_words_2.items()}\n",
        "float_words = {**float_words_1, **float_words_2}\n",
        "float_words_list = float_words.values()\n",
        "\n",
        "\n",
        "operations_1 = {\n",
        "    \"плюс\": \"+\",\n",
        "    \"минус\": \"-\"\n",
        "}\n",
        "\n",
        "operations_2 = {\n",
        "    \"умножить\": \"*\",\n",
        "    \"разделить\": \"/\"\n",
        "}\n",
        "\n",
        "operations_3 = {\n",
        "    \"открывается\": \"(\",\n",
        "    \"закрывается\": \")\"\n",
        "}\n",
        "\n",
        "operations_4 = {\n",
        "    \"степени\": \"^\",\n",
        "    \"синус\": \"sin\",\n",
        "    \"косинус\": \"cos\",\n",
        "    \"тангенс\": \"tan\"\n",
        "}\n",
        "\n",
        "operations = {**operations_1, **operations_2, **operations_3, **operations_4}"
      ],
      "metadata": {
        "id": "arpjKfVD_hMk"
      },
      "execution_count": 1,
      "outputs": []
    },
    {
      "cell_type": "markdown",
      "source": [
        "# Class"
      ],
      "metadata": {
        "id": "CTX0mB-OT-kH"
      }
    },
    {
      "cell_type": "code",
      "source": [
        "class Number:\n",
        "    def __init__(self):\n",
        "        self.num = 0\n",
        "        self.fraction = 1\n",
        "\n",
        "    def __str__(self):\n",
        "        if self.fraction == 1:\n",
        "            return f\"{self.num}\"\n",
        "        else:\n",
        "            return f\"{self.num}/{self.fraction}\"\n",
        "\n",
        "    def add(self, number2):\n",
        "        self.num = int(self.num * number2.fraction / math.gcd(self.fraction, number2.fraction)) + int(number2.num * self.fraction / math.gcd(self.fraction, number2.fraction))\n",
        "        self.fraction = int(self.fraction * number2.fraction / math.gcd(self.fraction, number2.fraction))\n",
        "        return self\n",
        "\n",
        "    def subtract(self, number2):\n",
        "        self.num = int(self.num * number2.fraction / math.gcd(self.fraction, number2.fraction)) - int(number2.num * self.fraction / math.gcd(self.fraction, number2.fraction))\n",
        "        self.fraction = int(self.fraction * number2.fraction / math.gcd(self.fraction, number2.fraction))\n",
        "        return self\n",
        "\n",
        "    def multiply(self, number2):\n",
        "        self.num *= number2.num\n",
        "        self.fraction *= number2.fraction\n",
        "        return self\n",
        "\n",
        "    def divide(self, number2):\n",
        "        self.num *= number2.fraction\n",
        "        self.fraction *= number2.num\n",
        "        return self\n",
        "\n",
        "    def to_str(self):\n",
        "        global one\n",
        "        one = False\n",
        "\n",
        "        def number_to_words(n, is_frac_part=False, is_frac=False):\n",
        "            global one\n",
        "            if is_frac and n in float_words_list:\n",
        "                if one:\n",
        "                    return reverse_float_words_1[n]\n",
        "                return reverse_float_words_2[n]\n",
        "            if n == 0:\n",
        "                return \"ноль\"\n",
        "\n",
        "            elif n < 10:\n",
        "                if is_frac_part and n == 1:\n",
        "                    one = True\n",
        "                    return \"одна\"\n",
        "                elif is_frac_part and n == 2:\n",
        "                    return \"две\"\n",
        "                return units[n]\n",
        "\n",
        "            elif 10 <= n < 20:\n",
        "                return teens[n - 10]\n",
        "\n",
        "            elif 20 <= n < 100:\n",
        "                if is_frac_part and n % 10 == 1:\n",
        "                    one = True\n",
        "                    return tens[n // 10] + ' одна'\n",
        "                elif is_frac_part and n % 10 == 2:\n",
        "                    return tens[n // 10] + ' две'\n",
        "                return tens[n // 10] + ('' if n % 10 == 0 else ' ' + number_to_words(n % 10, is_frac_part=is_frac_part, is_frac=is_frac))\n",
        "\n",
        "            elif 100 <= n < 1000:\n",
        "                return hundreds[n // 100] + ('' if n % 100 == 0 else ' ' + number_to_words(n % 100, is_frac_part=is_frac_part, is_frac=is_frac))\n",
        "\n",
        "        # Получаем целую и дробную части\n",
        "        whole_part = self.num // self.fraction\n",
        "        fractional_part = self.num % self.fraction\n",
        "\n",
        "        # Формируем строку\n",
        "        result = \"\"\n",
        "\n",
        "        if whole_part > 0:\n",
        "            result += number_to_words(whole_part)\n",
        "        elif self.fraction == 1 or fractional_part == 0:\n",
        "            result += \"ноль\"\n",
        "\n",
        "        if self.fraction != 1 and fractional_part != 0:\n",
        "            if whole_part > 0:\n",
        "                result += \" и \"\n",
        "            result += number_to_words(fractional_part, is_frac_part=True) + \" \" + number_to_words(self.fraction, is_frac=True)\n",
        "\n",
        "        return result.strip()"
      ],
      "metadata": {
        "id": "4Ymt8yJEUAcc"
      },
      "execution_count": 37,
      "outputs": []
    },
    {
      "cell_type": "markdown",
      "source": [
        "# My code"
      ],
      "metadata": {
        "id": "PoanMFZ6AEas"
      }
    },
    {
      "cell_type": "code",
      "source": [
        "def calc(task):\n",
        "    task = modification(task)\n",
        "\n",
        "\n",
        "    task = infix_to_prefix(task)\n",
        "    ans = evaluate_rpn(task)\n",
        "\n",
        "    return ans.to_str()"
      ],
      "metadata": {
        "id": "UjCTEiw5AGfs"
      },
      "execution_count": 39,
      "outputs": []
    },
    {
      "cell_type": "code",
      "source": [
        "def precedence(op):\n",
        "    if op in ('+', '-'):\n",
        "        return 1\n",
        "    if op in ('*', '/'):\n",
        "        return 2\n",
        "    if op in ('sin', 'cos', 'tan'):\n",
        "        return 3\n",
        "    return 0\n",
        "\n",
        "def infix_to_prefix(tokens):\n",
        "    output = []\n",
        "    operators = []\n",
        "\n",
        "    for token in tokens:\n",
        "        if isinstance(token, Number):\n",
        "            output.append(token)\n",
        "        elif token in ('sin', 'cos', 'tan'):\n",
        "            operators.append(token)\n",
        "        elif token == '(':\n",
        "            operators.append(token)\n",
        "        elif token == ')':\n",
        "            while operators and operators[-1] != '(':\n",
        "                output.append(operators.pop())\n",
        "            operators.pop()\n",
        "        else:  # Если токен - оператор\n",
        "            while (operators and precedence(operators[-1]) >= precedence(token)):\n",
        "                output.append(operators.pop())\n",
        "            operators.append(token)\n",
        "\n",
        "    while operators:\n",
        "        output.append(operators.pop())\n",
        "\n",
        "    return output"
      ],
      "metadata": {
        "id": "vh3e8-G5Hjrw"
      },
      "execution_count": 4,
      "outputs": []
    },
    {
      "cell_type": "code",
      "source": [
        "def evaluate_rpn(expression):\n",
        "    stack = []\n",
        "    operators = {'+', '-', '*', '/'}\n",
        "    for token in expression:\n",
        "        if token not in operators:\n",
        "            stack.append(token)\n",
        "        else:\n",
        "            # Если токен оператор, извлекаем два последних элемента из стека\n",
        "            right = stack.pop()\n",
        "            left = stack.pop()\n",
        "\n",
        "            # Выполняем операцию и помещаем результат обратно в стек\n",
        "            if token == '+':\n",
        "                stack.append(left.add(right))\n",
        "            elif token == '-':\n",
        "                stack.append(left.subtract(right))\n",
        "            elif token == '*':\n",
        "                stack.append(left.multiply(right))\n",
        "            elif token == '/':\n",
        "                stack.append(left.divide(right))\n",
        "\n",
        "    # В конце в стеке должен остаться один элемент — результат\n",
        "    return stack.pop()"
      ],
      "metadata": {
        "id": "1p19zoKvXSsD"
      },
      "execution_count": 5,
      "outputs": []
    },
    {
      "cell_type": "code",
      "source": [
        "def to_num(line):\n",
        "    cur_num = Number()\n",
        "    if line[-1] not in float_words:\n",
        "        for part in line:\n",
        "            cur_num.num += number_words[part]\n",
        "\n",
        "    elif \"и\" not in line:\n",
        "        for part in line[:-1]:\n",
        "            cur_num.num += number_words[part]\n",
        "        cur_num.fraction = float_words[line[-1]]\n",
        "\n",
        "    else:\n",
        "        i = 0\n",
        "        while line[i] != \"и\":\n",
        "            cur_num.num += number_words[line[i]]\n",
        "            i += 1\n",
        "        cur_num.num *= float_words[line[-1]]\n",
        "\n",
        "        for part in line[i+1:-1]:\n",
        "            cur_num.num += number_words[part]\n",
        "        cur_num.fraction = float_words[line[-1]]\n",
        "\n",
        "    return cur_num"
      ],
      "metadata": {
        "id": "sr_GfSYKXkcp"
      },
      "execution_count": 6,
      "outputs": []
    },
    {
      "cell_type": "code",
      "source": [
        "def modification(task):\n",
        "    task = task.split()\n",
        "    task_new = []\n",
        "\n",
        "    is_num = False\n",
        "    cur_num = []\n",
        "\n",
        "    for part in task:\n",
        "        if part in number_words or part in float_words or part == \"и\":\n",
        "            if not is_num:\n",
        "                is_num = True\n",
        "                cur_num = []\n",
        "            cur_num.append(part)\n",
        "\n",
        "        else:\n",
        "            if is_num:\n",
        "                is_num = False\n",
        "                task_new.append(to_num(cur_num))\n",
        "\n",
        "            if part in operations:\n",
        "                task_new.append(operations[part])\n",
        "            elif part in [\"на\", \"скобка\", \"в\", \"от\"]:\n",
        "                continue\n",
        "            else:\n",
        "                print(\"На вход было подано -\", part)\n",
        "                continue\n",
        "    if is_num:\n",
        "        is_num = False\n",
        "        task_new.append(to_num(cur_num))\n",
        "\n",
        "    return task_new"
      ],
      "metadata": {
        "id": "qtdnYPYQJ75m"
      },
      "execution_count": 7,
      "outputs": []
    },
    {
      "cell_type": "code",
      "source": [
        "# print(calc(\"один и четыре пятых плюс шесть седьмых\") == \"два и двадцать три тридцать пятых\")\n",
        "# print(calc(\"один и четыре пятых умножить на шесть седьмых\") == \"один и девятнадцать тридцать пятых\")\n",
        "# print(calc(\"один и две пятых умножить на три седьмых\") == \"двадцать одна тридцать пятая\")"
      ],
      "metadata": {
        "colab": {
          "base_uri": "https://localhost:8080/"
        },
        "id": "kUSjY_te3ft3",
        "outputId": "937b2c1e-550d-43a5-dec6-6eba955ae305"
      },
      "execution_count": 44,
      "outputs": [
        {
          "output_type": "stream",
          "name": "stdout",
          "text": [
            "True\n",
            "True\n",
            "True\n"
          ]
        }
      ]
    },
    {
      "cell_type": "code",
      "source": [
        "print(calc(\"\"))"
      ],
      "metadata": {
        "colab": {
          "base_uri": "https://localhost:8080/"
        },
        "id": "3I2iFlif92nE",
        "outputId": "0bf2ba7c-9f34-432e-9c75-dda6e95a8014"
      },
      "execution_count": 49,
      "outputs": [
        {
          "output_type": "stream",
          "name": "stdout",
          "text": [
            "один и три пятнадцатых\n"
          ]
        }
      ]
    },
    {
      "cell_type": "code",
      "source": [
        "print(calc(input()))"
      ],
      "metadata": {
        "colab": {
          "base_uri": "https://localhost:8080/"
        },
        "id": "09tnWZnYMhXt",
        "outputId": "8274806f-25d1-4aa1-9794-194e99d5091c"
      },
      "execution_count": 23,
      "outputs": [
        {
          "output_type": "stream",
          "name": "stdout",
          "text": [
            "один и две пятых умножить на три седьмых\n",
            "двадцать одна тридцать пятая\n"
          ]
        }
      ]
    },
    {
      "cell_type": "code",
      "source": [],
      "metadata": {
        "id": "9r7jnLVeT9M0"
      },
      "execution_count": null,
      "outputs": []
    }
  ]
}